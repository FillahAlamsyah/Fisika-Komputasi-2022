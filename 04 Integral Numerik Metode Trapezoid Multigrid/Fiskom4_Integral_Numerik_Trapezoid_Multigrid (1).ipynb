{
  "nbformat": 4,
  "nbformat_minor": 0,
  "metadata": {
    "colab": {
      "provenance": []
    },
    "kernelspec": {
      "name": "python3",
      "display_name": "Python 3"
    },
    "language_info": {
      "name": "python"
    }
  },
  "cells": [
    {
      "cell_type": "code",
      "execution_count": 4,
      "metadata": {
        "id": "BLICCB3-4C6I",
        "colab": {
          "base_uri": "https://localhost:8080/"
        },
        "outputId": "e1e1b6a7-ad40-4d10-fafd-37692cee9707"
      },
      "outputs": [
        {
          "output_type": "stream",
          "name": "stdout",
          "text": [
            "Batas bawah =  0.0\n",
            "Batas atas =  1.0\n",
            "0.0 1.0 0.33335000000000004\n",
            "\n",
            "Batas bawah =  0.0\n",
            "Batas atas =  2.0\n",
            "0.0 2.0 2.6668000000000003\n",
            "\n",
            "Batas bawah =  0.0\n",
            "Batas atas =  3.0\n",
            "0.0 3.0 9.000449999999994\n",
            "\n",
            "Batas bawah =  0.0\n",
            "Batas atas =  4.0\n",
            "0.0 4.0 21.334400000000002\n",
            "\n",
            "Batas bawah =  0.0\n",
            "Batas atas =  5.0\n",
            "0.0 5.0 41.66875000000001\n",
            "\n",
            "Batas bawah =  0.0\n",
            "Batas atas =  6.0\n",
            "0.0 6.0 72.00359999999995\n",
            "\n",
            "Batas bawah =  0.0\n",
            "Batas atas =  7.0\n",
            "0.0 7.0 114.33905000000006\n",
            "\n",
            "Batas bawah =  0.0\n",
            "Batas atas =  8.0\n",
            "0.0 8.0 170.67520000000002\n",
            "\n",
            "Batas bawah =  0.0\n",
            "Batas atas =  9.0\n",
            "0.0 9.0 243.01214999999996\n",
            "\n",
            "Batas bawah =  0.0\n",
            "Batas atas =  10.0\n",
            "0.0 10.0 333.3500000000001\n",
            "\n"
          ]
        }
      ],
      "source": [
        "def Trapezoid(a,b):\n",
        "    def f(x):\n",
        "        return x**2\n",
        "    a = float( a ) #input(\"Batas bawah = \") )\n",
        "    b = float( b ) #input(\"Batas atas = \") )\n",
        "    n = int( 100 )\n",
        "\n",
        "    def trapezoid(f,a,b,n):\n",
        "        h=(b-a)/n\n",
        "        sum = 0.0\n",
        "        for i in range (1,n):\n",
        "            x = a+i*h\n",
        "            sum = sum +f(x)\n",
        "        integral = (h/2)*(f(a)+2*sum+f(b))\n",
        "        return integral\n",
        "    integral = trapezoid(f,a,b,n)\n",
        "    print(\"Batas bawah = \",a)\n",
        "    print(\"Batas atas = \",b)\n",
        "    print(a,b, integral)\n",
        "    print()\n",
        "\n",
        "\n",
        "\n",
        "for i in range(0,10):\n",
        "    a = 0 #float(input(\"Batas bawah = \"))\n",
        "    b = i+1 #float(input(\"Batas atas = \"))\n",
        "    Trapezoid(a,b)\n"
      ]
    }
  ]
}