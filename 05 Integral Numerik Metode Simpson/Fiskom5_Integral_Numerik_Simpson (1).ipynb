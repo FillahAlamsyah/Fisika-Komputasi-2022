{
  "nbformat": 4,
  "nbformat_minor": 0,
  "metadata": {
    "colab": {
      "provenance": []
    },
    "kernelspec": {
      "name": "python3",
      "display_name": "Python 3"
    },
    "language_info": {
      "name": "python"
    }
  },
  "cells": [
    {
      "cell_type": "code",
      "execution_count": 1,
      "metadata": {
        "id": "AIUTWl6ZiU_f"
      },
      "outputs": [],
      "source": [
        "#simpson.py\n",
        "def simpson(f,a,b,n):\n",
        "    h = (b-a)/n\n",
        "    sum1 = 0.0\n",
        "    sum2 = 0.0\n",
        "\n",
        "    for i in range(1,n,2):\n",
        "        x = a+i*h\n",
        "        sum1 = sum1+f(x)\n",
        "    for i in range(2,n-1,1):\n",
        "        x = a+i*h\n",
        "        sum2 = sum2+f(x)\n",
        "\n",
        "    integral = (h/3)*(f(a)+4*sum1+2*sum2+f(b))\n",
        "\n",
        "    return integral"
      ]
    },
    {
      "cell_type": "code",
      "source": [
        "#from simpson import*\n",
        "\n",
        "def f(x):\n",
        "    return x**2+4\n",
        "\n",
        "a = float(input('batas bawah = '))\n",
        "b = float(input('batas atas = '))\n",
        "n = int(input('jumlah grid kelipatan 2 = '))\n",
        "\n",
        "integral = simpson(f,a,b,n)\n",
        "\n",
        "print('Integral = ', integral)"
      ],
      "metadata": {
        "id": "Nt8p77z1jANn",
        "colab": {
          "base_uri": "https://localhost:8080/"
        },
        "outputId": "abc912e6-48cf-4a8f-f016-801b3646f3c2"
      },
      "execution_count": 2,
      "outputs": [
        {
          "output_type": "stream",
          "name": "stdout",
          "text": [
            "batas bawah = 0\n",
            "batas atas = 10\n",
            "jumlah grid kelipatan 2 = 8\n",
            "Integral =  424.27083333333337\n"
          ]
        }
      ]
    }
  ]
}