{
  "nbformat": 4,
  "nbformat_minor": 0,
  "metadata": {
    "colab": {
      "provenance": []
    },
    "kernelspec": {
      "name": "python3",
      "display_name": "Python 3"
    },
    "language_info": {
      "name": "python"
    }
  },
  "cells": [
    {
      "cell_type": "code",
      "execution_count": null,
      "metadata": {
        "id": "td7VsKuOnx5g"
      },
      "outputs": [],
      "source": [
        "## module error\n",
        "''' err(string).\n",
        "    Prints 'string' and terminates program.\n",
        "'''\n",
        "import sys\n",
        "def err(string):\n",
        "    print(string)\n",
        "    raw_input('Press return to exit')\n",
        "    sys.exit()"
      ]
    },
    {
      "cell_type": "code",
      "source": [
        "## module gaussPivot\n",
        "''' x = gaussPivot(a,b,tol=1.0e-9).\n",
        "    Memecahkan [a]{x} = {b} dengan Eliminasi Gauss\n",
        "    dan pivoting baris\n",
        "'''\n",
        "\n",
        "from numpy import*\n",
        "import swap\n",
        "import error\n",
        "\n",
        "def gaussPivot(a,b,tol=1.0e-12):\n",
        "    n = len(b)\n",
        "\n",
        "    # Setup faktor skala\n",
        "    s = zeros((n))\n",
        "    for i in range(n):\n",
        "        s[i] = max(abs(a[i,:]))\n",
        "\n",
        "    for k in range(0,n-1):\n",
        "\n",
        "        #Perubahan baris jika diperlukan\n",
        "        p = int(argmax(abs(a[k:n,k])/s[k:n])) + k\n",
        "        if abs(a[p,k]) < tol: error.err('Matriks adalah singular')\n",
        "        if p != k:\n",
        "            swap.swapRows(b,k,p)\n",
        "            swap.swapRows(s,k,p)\n",
        "            swap.swapRows(a,k,p)\n",
        "\n",
        "        # Eliminasi\n",
        "        for i in range(k+1,n):\n",
        "            if a[i,k] != 0.0:\n",
        "                lam = a[i,k]/a[k,k]\n",
        "                a[i,k+1:n] = a[i,k+1:n] - lam*a[k,k+1:n]\n",
        "                b[i] = b[i] - lam*b[k]\n",
        "        if abs(a[n-1,n-1]) < tol: error.err('Matriks adalah singular')\n",
        "\n",
        "    # Substitusi balik\n",
        "    for k in range(n-1,-1,-1):\n",
        "        b[k] = (b[k] - dot(a[k,k+1:n],b[k+1:n]))/a[k,k]\n",
        "    return b\n",
        ""
      ],
      "metadata": {
        "id": "c2DnnJ08n0F4"
      },
      "execution_count": null,
      "outputs": []
    },
    {
      "cell_type": "code",
      "source": [
        "## module polyFit\n",
        "''' c = polyFit(xData,yData,m).\n",
        "    Menentukan nilai koefisien polynomial\n",
        "    p(x) = c[0] + c[1]x + c[2]x^2 +...+ c[m]x^m\n",
        "    yang memfitting data dengan metode least squares.\n",
        "\n",
        "    sigma = stdDev(c,xDara,yData).\n",
        "    Menghitung std. deviasi antara p(x) dan data.\n",
        "'''\n",
        "\n",
        "from numpy import zeros\n",
        "from math import sqrt\n",
        "from gaussPivot import*\n",
        "\n",
        "def polyFit(xData,yData,m):\n",
        "    a = zeros((m+1,m+1))\n",
        "    b = zeros((m+1))\n",
        "    s = zeros((2*m+1))\n",
        "    for i in range(len(xData)):\n",
        "        temp = yData[i]\n",
        "        for j in range(m+1):\n",
        "            b[j] = b[j] + temp\n",
        "            temp = temp*xData[i]\n",
        "        temp = 1.0\n",
        "        for j in range(2*m+1):\n",
        "            s[j] = s[j] + temp\n",
        "            temp = temp*xData[i]\n",
        "    for i in range(m+1):\n",
        "        for j in range(m+1):\n",
        "            a[i,j] = s[i+j]\n",
        "    return gaussPivot(a,b)\n",
        "\n",
        "def stdDev(c,xData,yData):\n",
        "\n",
        "    def evalPoly(c,x):\n",
        "        m = len(c) - 1\n",
        "        p = c[m]\n",
        "        for j in range(m):\n",
        "            p = p*x + c[m-j-1]\n",
        "        return p\n",
        "\n",
        "    n = len(xData) - 1\n",
        "    m = len(c) - 1\n",
        "    sigma = 0.0\n",
        "    for i in range(n+1):\n",
        "        p = evalPoly(c,xData[i])\n",
        "        sigma = sigma + (yData[i] - p)**2\n",
        "    sigma = sqrt(sigma/(n - m))\n",
        "    return sigma"
      ],
      "metadata": {
        "id": "N4mLRBL3n2Ke"
      },
      "execution_count": null,
      "outputs": []
    },
    {
      "cell_type": "code",
      "source": [
        "def swapRows(v,i,j):\n",
        "    if len(v.shape) == 1:\n",
        "        v[i],v[j] = v[j],v[i]\n",
        "    else:\n",
        "        v[[i,j],:] = v[[j,i],:]\n",
        "def swapCols(v,i,j):\n",
        "    v[:,[i,j]] = v[:,[j,i]]"
      ],
      "metadata": {
        "id": "7_4Bgivmn8y2"
      },
      "execution_count": null,
      "outputs": []
    },
    {
      "cell_type": "code",
      "source": [
        "import numpy as np\n",
        "from polyFit import*\n",
        "import matplotlib.pyplot as plt\n",
        "#input data\n",
        "xData = np.array([0.0,1.0,2.0,3.0,4.0,5.0,6.0,7.0,8.0])\n",
        "yData = np.array([20.0,40.0,60.0,80.0,100.0,120.0,140.0,160.0,180.0])\n",
        "while True:\n",
        "    try:\n",
        "        m = eval(input(\"\\nPolinomial Orde ==> \"))\n",
        "        coeff = polyFit(xData,yData,m)\n",
        "        print(\"koefisien:\\n\",coeff)\n",
        "        print(\"Std. deviasi =\",stdDev(coeff,xData,yData))\n",
        "        m = len(coeff)\n",
        "        x1 = min(xData)\n",
        "        x2 = max(xData)\n",
        "        dx = (x2 - x1)/20.0\n",
        "        x = np.arange(x1,x2 + dx/10.0,dx)\n",
        "        y = np.zeros((len(x)))*1.0\n",
        "        for i in range(m):\n",
        "            y = y + coeff[i]*x**i\n",
        "        plt.plot(xData,yData,'o',x,y,'-')\n",
        "        plt.title('Grafik Kecepatan vs Waktu')\n",
        "        plt.xlabel('Waktu (s)')\n",
        "        plt.ylabel('Kecepatan (m/s)')\n",
        "        plt.legend(('Data','Regresi Polinom'),loc = 0)\n",
        "        plt.grid(True)\n",
        "        plt.show()\n",
        "    except SyntaxError: break\n",
        "input(\"Finished. Press return to exit\")"
      ],
      "metadata": {
        "id": "CQJuElZ9n_VG"
      },
      "execution_count": null,
      "outputs": []
    }
  ]
}