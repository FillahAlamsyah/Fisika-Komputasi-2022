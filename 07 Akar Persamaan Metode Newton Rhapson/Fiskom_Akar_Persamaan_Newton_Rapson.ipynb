{
  "nbformat": 4,
  "nbformat_minor": 0,
  "metadata": {
    "colab": {
      "provenance": []
    },
    "kernelspec": {
      "name": "python3",
      "display_name": "Python 3"
    },
    "language_info": {
      "name": "python"
    }
  },
  "cells": [
    {
      "cell_type": "code",
      "execution_count": null,
      "metadata": {
        "id": "LvGAys5ajWmV"
      },
      "outputs": [],
      "source": [
        "def derivative(f,x,dx=1e-10):\n",
        "    dfdx=(f(x+dx)-f(x-dx))/(2*dx)\n",
        "    return dfdx"
      ]
    },
    {
      "cell_type": "code",
      "source": [
        "from derivative import*\n",
        "\n",
        "\n",
        "def newton_raphson(f,x,tol):\n",
        "    while abs(f(x))>tol:\n",
        "        dfdx=derivative(f,x)\n",
        "        x=x-f(x)/dfdx\n",
        "    return x\n",
        ""
      ],
      "metadata": {
        "id": "w5iAnKC7lzrw"
      },
      "execution_count": null,
      "outputs": []
    },
    {
      "cell_type": "code",
      "source": [
        "from newton_raphson import*\n",
        "\n",
        "def f(x):\n",
        "    y=x**2-4\n",
        "    return y\n",
        "\n",
        "x_i = float(input('Tebakan awal akar, xi = '))\n",
        "tol = float(input('Toleransi = '))\n",
        "\n",
        "x=newton_raphson(f,x_i,tol)\n",
        "\n",
        "print (\"Akar: x = {}\".format(x))"
      ],
      "metadata": {
        "id": "FPqL_Alyl7Pe"
      },
      "execution_count": null,
      "outputs": []
    }
  ]
}