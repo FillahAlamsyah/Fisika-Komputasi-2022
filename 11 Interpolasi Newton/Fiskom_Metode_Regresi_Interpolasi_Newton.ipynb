{
  "nbformat": 4,
  "nbformat_minor": 0,
  "metadata": {
    "colab": {
      "provenance": []
    },
    "kernelspec": {
      "name": "python3",
      "display_name": "Python 3"
    },
    "language_info": {
      "name": "python"
    }
  },
  "cells": [
    {
      "cell_type": "code",
      "execution_count": null,
      "metadata": {
        "id": "Zp5RGre_nMIB"
      },
      "outputs": [],
      "source": [
        "##module newtonPoly\n",
        "''' p = evalPoly(a,xData,x).\n",
        "    Menghitung Polinomial Newton p saat x. Koefisien\n",
        "    vektor 'a' dapat dihitung dengan fungsi 'coeffts'.\n",
        "\n",
        "    a = coeffts(xData,yData).\n",
        "    Menghitung koefisien polinom Newton.\n",
        "'''\n",
        "def evalPoly(a,xData,x):\n",
        "    n = len(xData) - 1 #Degree of polynomial\n",
        "    p = a[n]\n",
        "    for k in range(1,n+1):\n",
        "        p = a[n-k] + (x-xData[n-k])*p\n",
        "    return p\n",
        "\n",
        "def coeffts(xData,yData):\n",
        "    m = len(xData) #Number of data points\n",
        "    a = yData.copy()\n",
        "    for k in range(1,m):\n",
        "        a[k:m] = (a[k:m] - a[k-1])/(xData[k:m] - xData[k-1])\n",
        "    return a"
      ]
    },
    {
      "cell_type": "code",
      "source": [
        "import numpy as np\n",
        "import math\n",
        "from newtonPoly import*\n",
        "import matplotlib.pyplot as plt\n",
        "\n",
        "xData = np.array([1.0,2.0,3.0])\n",
        "yData = np.array([2.0,4.0,6.0])\n",
        "\n",
        "a = coeffts(xData,yData)\n",
        "print(\" l   F_Interp   F_Exact\")\n",
        "print(\"-----------------------\")\n",
        "x = np.arange(1.0,11.0,1.0)\n",
        "n = len(x)\n",
        "y = np.zeros((n,2))\n",
        "yExact = np.zeros((n,2))\n",
        "for i in range(n):\n",
        "    y[i,0] = evalPoly(a,xData,x[i])\n",
        "    yExact[i,0] = 2*2*0.5*x[i];\n",
        "    print('{:3.1f} {:9.2f} {:9.2f}'.format(x[i],y[i,0],yExact[i,0]))\n",
        "plt.plot(xData,yData,'o',x,y[:,0],'h-',x,yExact[:,0],'s-')\n",
        "plt.title('Perbandingan Data, Interpolasi Newton, dan Nilai Eksak')\n",
        "plt.xlabel('Panjang Kawat l(m)')\n",
        "plt.ylabel('Gaya F(N)')\n",
        "plt.legend(('Data','Newton','Eksak'),loc = 0)\n",
        "plt.show()\n",
        "\n",
        "input(\"\\nPress return to exit\")"
      ],
      "metadata": {
        "id": "tk-pNY3AnfUP"
      },
      "execution_count": null,
      "outputs": []
    }
  ]
}