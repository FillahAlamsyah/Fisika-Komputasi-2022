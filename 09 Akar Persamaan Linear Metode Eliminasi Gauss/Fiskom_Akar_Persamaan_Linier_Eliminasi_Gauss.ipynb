{
  "nbformat": 4,
  "nbformat_minor": 0,
  "metadata": {
    "colab": {
      "provenance": []
    },
    "kernelspec": {
      "name": "python3",
      "display_name": "Python 3"
    },
    "language_info": {
      "name": "python"
    }
  },
  "cells": [
    {
      "cell_type": "code",
      "execution_count": null,
      "metadata": {
        "id": "WKGw4T9el_mQ"
      },
      "outputs": [],
      "source": [
        "## module gaussElimin\n",
        "'''x = gaussElimin(a,b).\n",
        "Mencari solusi [a]{b} = {x} dengan eliminasi Gauss\n",
        "'''\n",
        "import numpy as np\n",
        "\n",
        "def gaussElimin(a,b):\n",
        "    n = len(b)\n",
        "    # Fase Eliminasi\n",
        "    for k in range(0,n-1):\n",
        "        for i in range(k+1,n):\n",
        "            if a[i,k] != 0.0:\n",
        "                lam = a [i,k]/a[k,k]\n",
        "                a[i,k+1:n] = a[i,k+1:n] - lam*a[k,k+1:n]\n",
        "                b[i] = b[i] - lam*b[k]\n",
        "    # Substitusi balik\n",
        "    for k in range(n-1,-1,-1):\n",
        "        b[k] = (b[k] - np.dot(a[k,k+1:n],b[k+1:n]))/a[k,k]\n",
        "    return b"
      ]
    },
    {
      "cell_type": "code",
      "source": [
        "import numpy as np\n",
        "from gaussElimin import *\n",
        "\n",
        "a = np.array([[ 30.0, -20.0, 0.0],\n",
        "              [-20.0, 30.0, -10.0],\n",
        "              [ 0.0, -10.0, 10.0]])\n",
        "b = np.array([20.0, 40.0, 60.0])\n",
        "\n",
        "aOrig = a.copy()\n",
        "bOrig = b.copy()\n",
        "x = gaussElimin(a,b)\n",
        "det = np.prod(np.diagonal(a))\n",
        "print('x =\\n',x)\n",
        "print('\\ndet =',det)\n",
        "print('\\nCheck: A*x =\\n', np.dot(aOrig,x))\n",
        "input(\"\\nPress return to exit\")"
      ],
      "metadata": {
        "id": "nsaRL2SWmLN3"
      },
      "execution_count": null,
      "outputs": []
    }
  ]
}