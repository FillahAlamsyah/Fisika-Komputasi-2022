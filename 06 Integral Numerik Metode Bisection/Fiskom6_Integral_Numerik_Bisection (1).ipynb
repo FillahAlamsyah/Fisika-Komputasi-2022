{
  "nbformat": 4,
  "nbformat_minor": 0,
  "metadata": {
    "colab": {
      "provenance": []
    },
    "kernelspec": {
      "name": "python3",
      "display_name": "Python 3"
    },
    "language_info": {
      "name": "python"
    }
  },
  "cells": [
    {
      "cell_type": "code",
      "execution_count": null,
      "metadata": {
        "id": "gOpKJ67gjGIS"
      },
      "outputs": [],
      "source": [
        "def bisection(f,a,b,tol):\n",
        "\n",
        "    if f(a)*f(b)>0:\n",
        "        print(\"a dan b tidak mengurung nilai, tentukan nilai lain\")\n",
        "        return None\n",
        "\n",
        "    c=(a+b)/2\n",
        "\n",
        "    while abs (f(c))>tol:\n",
        "        c=(a+b)/2\n",
        "        if f(a)*f(c)>0:\n",
        "            a=c\n",
        "        if f(b)*f(c)>0:\n",
        "            b=c\n",
        "    return c"
      ]
    },
    {
      "cell_type": "code",
      "source": [
        "from bisection import*\n",
        "\n",
        "def f(x):\n",
        "    y = x**2-4\n",
        "    return y\n",
        "\n",
        "a=float(input('Tebakan Awal a = '))\n",
        "b=float(input('Tebakan Awal b = '))\n",
        "tol = float(input('Toleransi = '))\n",
        "\n",
        "x = bisection(f,a,b,tol)\n",
        "print (\"Akar Persamaan: x = {}\".format(x))"
      ],
      "metadata": {
        "id": "7mOqi-9-jRvG"
      },
      "execution_count": null,
      "outputs": []
    }
  ]
}